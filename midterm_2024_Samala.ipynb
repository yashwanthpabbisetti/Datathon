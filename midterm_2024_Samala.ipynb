{
 "cells": [
  {
   "cell_type": "markdown",
   "metadata": {
    "id": "lApdTbY0ymT7"
   },
   "source": [
    "## Step 1: Calculate PRIEST Clinical Severity Score\n",
    "\n",
    "This scoring algorithm can be found [here on the MDCalc website](https://www.mdcalc.com/priest-covid-19-clinical-severity-score#evidence).  \n",
    "\n",
    "1. You will need to write a function called **priest()** with the following input parameters.  \n",
    " * Sex (Gender assigned at birth)\n",
    " * Age in years\n",
    " * Respiratory rate in breaths per minute\n",
    " * Oxygen saturation as a percent between 0 and 1\n",
    " * Heart rate in beats per minute\n",
    " * Systolic BP in mmHg\n",
    " * Temperature in degrees C\n",
    " * Alertness as a string description\n",
    " * Inspired Oxygen as as string description\n",
    " * Performance Status as a string description\n",
    "2. The function will need to follow the algorithm provided on the MDCalc website to compute a risk percentage that should be returned as a numeric value between 0 and 1.\n",
    "3. Be sure to use docstring documentation and at least three built-in docstring test cases.\n",
    "4. Assume that the input values that are strings could be any combination of upper or lower case. For example: 'male', 'Male', 'MALE', 'MalE' should all be interpretted by your code as male.\n",
    "5. If any of the inputs are invalid (for example a sex value that is not recognizable as male or female) your code should return None.\n",
    "\n",
    "NOTES:\n",
    "1. In the final step there is a table that translates from **PRIEST Score** to **30-day probability of an outcome** but the last two probabilities are shown as ranges (59-88% and >99%).  Our code needs to output a single number, however. For our code, use the following rule:\n",
    " * If PRIEST score is between 17 and 25, the probability you return should be 0.59\n",
    " * If PRIEST score is greater than or equal to 26, the probability you return should be 0.99\n"
   ]
  },
  {
   "cell_type": "code",
   "execution_count": 1,
   "metadata": {
    "id": "qJ98wyPuymT8"
   },
   "outputs": [],
   "source": [
    "# Name : Cherishma Samala\n",
    "# Programming for Health Data Scientists - HDS5210\n",
    "# Due to the recent mail to everyone in the class,\n",
    "# I am including which specific week and module concepts are used for the written code in the cell.\n",
    "\n",
    "# The concepts I have in this cell is functions, list, comparison operators, if statements which are explained from week 1 to week 3.\n",
    "# Lists and functions are from module 7\n",
    "# comparison operators and if statement is from module 8 & 9\n",
    "\n",
    "# Step 1:\n",
    "def priest(gender, respmin, heartmin, oxy01, sysmmhg, tempc, ageiny, alerts, ioxys, pfss):\n",
    "  '''(str, int, int, float, int, float, int, str, str, str) -> (float)\n",
    "  priest function calculates the risk value, ranging from 0 to 1, using the MDCalc algorithm,\n",
    "  with a rule in the notes that the function should assign 0.99 for calculated scores above 26 and 0.59 for scores between 17 and 25.\n",
    "\n",
    "  Function parameters are:\n",
    "  gender:    Sex (Gender assigned at birth)\n",
    "  respmin:   Respiratory rate in breaths per minute\n",
    "  heartmin:  Heart rate in beats per minute\n",
    "\n",
    "  oxy01:     Oxygen saturation as a percent between 0 and 1\n",
    "  sysmmhg:   Systolic BP in mmHg\n",
    "  tempc:     Temperature in degrees C\n",
    "  ageiny:    Age in years\n",
    "\n",
    "  alerts:    Alertness as a string description\n",
    "  ioxys:     Inspired Oxygen as as string description\n",
    "  pfss:      Performance Status as a string description\n",
    "\n",
    "  >>> priest('fEMALE', 25, 29 , 0.90 , 222, 33.7, 60, 'ALerT','AIr','limited self-care')\n",
    "  0.59\n",
    "\n",
    "  >>> priest('FEMALE', 9, 29 , 0.59 , 319, 25.1, 66,'confused or not alert','Air','Limited activity, Can Self-care')\n",
    "  0.59\n",
    "\n",
    "  >>> priest('Male', 45, 10, 0.91, 36, 101 , 31.9,'AlERt','AIr','Bed/chair bound, no self-care')\n",
    "\n",
    "\n",
    "  '''\n",
    "  # Initialize\n",
    "  score = 0\n",
    "  final_percent = 0\n",
    "\n",
    "  # Kinda Normalization\n",
    "  gender = gender.lower()\n",
    "  alerts = alerts.lower()\n",
    "  ioxys = ioxys.lower()\n",
    "  pfss = pfss.lower()\n",
    "\n",
    "  # Check for invalid\n",
    "  if not (isinstance(ageiny, int) and isinstance(heartmin, int)  and isinstance(respmin, int) and isinstance(sysmmhg, int)):\n",
    "      return None\n",
    "  if not  isinstance(tempc, float) and (isinstance(oxy01, float)):\n",
    "      return None\n",
    "\n",
    "  # Check for invalid for performance status\n",
    "  if pfss not in [\"unrestricted normal activity\", \"limited strenuous activity, can do light activity\", \"limited activity, can self-care\", \"limited self-care\", \"bed/chair bound, no self-care\"]:\n",
    "    return None\n",
    "\n",
    "  # Calculating all scores\n",
    "  # Adding score based on gender\n",
    "  if gender in [\"male\", \"female\"]:\n",
    "    if gender == \"male\":\n",
    "      score = score + 1\n",
    "  else:\n",
    "    return None\n",
    "\n",
    "  # Adding score based on inspired oxygen(ioxys)\n",
    "  if ioxys in [\"air\", \"supplemental oxygen\"]:\n",
    "    if ioxys == \"supplemental oxygen\":\n",
    "        score = score + 2\n",
    "  else:\n",
    "    return None\n",
    "\n",
    "  # Adding score based on alertness\n",
    "  if alerts in [\"alert\", \"confused or not alert\"]:\n",
    "    if alerts == \"confused or not alert\":\n",
    "        score = score + 3\n",
    "  else:\n",
    "    return None\n",
    "\n",
    "  # Adding score based on age(ageiny)\n",
    "  if ageiny > 80:\n",
    "    score = score + 4\n",
    "  elif ageiny >= 66:\n",
    "    score = score + 3\n",
    "  elif ageiny >= 50:\n",
    "    score = score + 2\n",
    "  elif ageiny < 16:\n",
    "    return None\n",
    "\n",
    "  # Adding based on respiratory rate(respmin)\n",
    "  if respmin < 9 or respmin > 24:\n",
    "    score = score + 3\n",
    "  elif respmin >= 9 and respmin <= 11:\n",
    "    score = score + 1\n",
    "  elif respmin >= 21 and respmin <= 24:\n",
    "    score = score + 2\n",
    "\n",
    "  # Adding based on heart rate(heartmin)\n",
    "  if heartmin < 41 or heartmin > 130:\n",
    "    score = score + 3\n",
    "  elif heartmin >= 41 and heartmin <= 50:\n",
    "    score = score + 1\n",
    "  elif heartmin >= 91 and heartmin <= 110:\n",
    "    score =score + 1\n",
    "  elif heartmin >= 111 and heartmin <= 130:\n",
    "    score = score + 2\n",
    "\n",
    "  # Adding based on oxygen saturation (oxy01)\n",
    "  if oxy01 > 0.95:\n",
    "    score = score + 0\n",
    "  elif oxy01 >= 0.94 and oxy01 <= 0.95:\n",
    "    score = score + 1\n",
    "  elif oxy01 >= 0.92 and oxy01 <= 0.93:\n",
    "    score = score + 2\n",
    "  elif oxy01 < 0.92:\n",
    "    score = score + 3\n",
    "  elif oxy01 < 0 or oxy01 > 1:\n",
    "    return None\n",
    "\n",
    "  # Adding based on systolic blood pressure (sysmmhg)\n",
    "  if sysmmhg < 91 or sysmmhg > 219:\n",
    "    score = score + 3\n",
    "  elif sysmmhg >= 91 and sysmmhg <= 100:\n",
    "    score = score + 2\n",
    "  elif sysmmhg >= 101 and sysmmhg <= 110:\n",
    "    score = score + 1\n",
    "\n",
    "  # Adding based on performance status (pfss)\n",
    "  if pfss == \"bed/chair bound, no self-care\":\n",
    "      score = score + 4\n",
    "  elif pfss == \"limited strenuous activity, can do light activity\":\n",
    "      score = score + 1\n",
    "  elif pfss == \"limited activity, can self-care\":\n",
    "      score = score + 2\n",
    "  elif pfss == \"limited self-care\":\n",
    "      score = score + 3\n",
    "  elif pfss == \"unrestricted normal activity\":\n",
    "      score = score + 0\n",
    "\n",
    "  # Adding based on temperature (tempc)\n",
    "  if tempc < 35.1:\n",
    "      score = score + 3\n",
    "  elif (tempc >= 35.1 and tempc <= 36.0) or (tempc >= 38.1 and tempc <= 39.0):\n",
    "      score = score + 1\n",
    "  elif tempc >= 36.1 and tempc <= 38.0:\n",
    "      score = score + 0\n",
    "  else:\n",
    "      score = score + 2\n",
    "\n",
    "  # Getting all scores into final risk percentage\n",
    "  if score >= 0 and score <= 1:\n",
    "      final_percent += 0.01\n",
    "  elif score >= 2 and score <= 3:\n",
    "      final_percent += 0.02\n",
    "  elif score == 4:\n",
    "      final_percent += 0.03\n",
    "  elif score == 5:\n",
    "      final_percent += 0.09\n",
    "  elif score == 6:\n",
    "      final_percent += 0.15\n",
    "  elif score == 7:\n",
    "      final_percent += 0.18\n",
    "  elif score == 8:\n",
    "      final_percent += 0.22\n",
    "  elif score == 9:\n",
    "      final_percent += 0.26\n",
    "  elif score == 10:\n",
    "      final_percent += 0.29\n",
    "  elif score == 11:\n",
    "      final_percent += 0.34\n",
    "  elif score == 12:\n",
    "      final_percent += 0.38\n",
    "  elif score == 13:\n",
    "      final_percent += 0.46\n",
    "  elif score == 14:\n",
    "      final_percent += 0.47\n",
    "  elif score == 15:\n",
    "      final_percent += 0.49\n",
    "  elif score == 16:\n",
    "      final_percent += 0.55\n",
    "  elif score >= 17 and score <= 25:\n",
    "      final_percent += 0.59\n",
    "  else:\n",
    "      final_percent += 0.99\n",
    "\n",
    "  return final_percent"
   ]
  },
  {
   "cell_type": "code",
   "execution_count": 2,
   "metadata": {
    "id": "22fZ6gPJymT8"
   },
   "outputs": [],
   "source": [
    "# priest('Male', 45, 10, 0.91, 36, 101 , 31.9,'AlERt','AIr','Bed/chair bound, no self-care')"
   ]
  },
  {
   "cell_type": "code",
   "execution_count": 3,
   "metadata": {
    "colab": {
     "base_uri": "https://localhost:8080/"
    },
    "id": "EhDwVQ5bymT8",
    "outputId": "0a9cce85-a370-4b47-8667-04a05e737edf"
   },
   "outputs": [
    {
     "name": "stderr",
     "output_type": "stream",
     "text": [
      "\n",
      "PYDEV DEBUGGER WARNING:\n",
      "sys.settrace() should not be used when the debugger is being used.\n",
      "This may cause the debugger to stop working correctly.\n",
      "If this is needed, please check: \n",
      "http://pydev.blogspot.com/2007/06/why-cant-pydev-debugger-work-with.html\n",
      "to see how to restore the debug tracing back correctly.\n",
      "Call Location:\n",
      "  File \"/usr/lib/python3.10/doctest.py\", line 1501, in run\n",
      "    sys.settrace(save_trace)\n",
      "\n"
     ]
    },
    {
     "name": "stdout",
     "output_type": "stream",
     "text": [
      "Finding tests in NoName\n",
      "Trying:\n",
      "    priest('fEMALE', 25, 29 , 0.90 , 222, 33.7, 60, 'ALerT','AIr','limited self-care')\n",
      "Expecting:\n",
      "    0.59\n",
      "ok\n",
      "Trying:\n",
      "    priest('FEMALE', 9, 29 , 0.59 , 319, 25.1, 66,'confused or not alert','Air','Limited activity, Can Self-care')\n",
      "Expecting:\n",
      "    0.59\n",
      "ok\n",
      "Trying:\n",
      "    priest('Male', 45, 10, 0.91, 36, 101 , 31.9,'AlERt','AIr','Bed/chair bound, no self-care')\n",
      "Expecting nothing\n",
      "ok\n"
     ]
    }
   ],
   "source": [
    "import doctest\n",
    "doctest.run_docstring_examples(priest, globals(),verbose=True)"
   ]
  },
  {
   "cell_type": "markdown",
   "metadata": {
    "id": "sWjkBAcDymT9"
   },
   "source": [
    "## Part 2: Find a hospital\n",
    "\n",
    "The next thing we have to do is figure out where to send this particular patient.  The guidelines on where to send a patient are based on their age (pediatric, adult, geriatric), sex, and risk percentage.  Luckily, you don't have to implement these rules. I already have. All you have to do is use a REST web service that I've created for you.\n",
    "\n",
    "You'll want to use Python to make a call to my REST web service similar to the example URL below. The first part of the URL will be the same for everyone and every request that you make. What you will need to modify for each of your requests is the information after the question mark.\n",
    "\n",
    "```\n",
    "https://oumdj6oci2.execute-api.us-east-1.amazonaws.com/prd/?age=40&sex=male&risk_pct=0.1\n",
    "```\n",
    "\n",
    "The example above asks my web service where a 40-year old male with a risk of 10% should go.  What the web service will return back is a JSON string containing the information you need.  That JSON will look like this:\n",
    "\n",
    "```json\n",
    "{\n",
    "  \"age\": \"40\",\n",
    "  \"sex\": \"male\",\n",
    "  \"risk\": \"0.1\",\n",
    "  \"hospital\": \"Southwest Hospital and Medical Center\"\n",
    "}\n",
    "```\n",
    "\n",
    "My function is not smart enough to understand `'MALE'` is the same as `'male'`.  You have to send it exactly `'male'` or `'female'`\n",
    "\n",
    "1. Your job is to write a function called **find_hospital()** that takes age, sex, and risk as parameters.\n",
    "2. Your function should call this REST web service using the `requests` module\n",
    "3. Then your function will need to interpret the JSON it gets and return just the name of the hospital\n",
    "4. If anything fails, return None\n",
    "5. Include a good docstring with at least three test cases.\n"
   ]
  },
  {
   "cell_type": "code",
   "execution_count": 4,
   "metadata": {
    "id": "Oou7AcrPymT9"
   },
   "outputs": [],
   "source": [
    "# Import\n",
    "import requests\n",
    "import json\n",
    "\n",
    "# Step 2\n",
    "# In this cell I used same concepts as mentioned in last cell and additionally I used json from week 6, module 21\n",
    "def find_hospital(a, gender, finalp):\n",
    "  \"\"\"(int, str, float) -> (str)\n",
    "\n",
    "  This function is designed to access a web service and retrieve information about hospitals, with its primary goal being to return the hospital's name.\n",
    "\n",
    "  a: Age in years\n",
    "  gender: Sex (Gender assigned at birth)\n",
    "  finalp: Risk percentage\n",
    "\n",
    "  >>> find_hospital(67, 'MAle', 0.88)\n",
    "  'Wesley Woods Geriatric Hospital'\n",
    "\n",
    "  >>> find_hospital(60, 'FEmale', 0.41)\n",
    "  'Emory Dunwoody Medical Center'\n",
    "\n",
    "  >>> find_hospital(21, 'm', '0.77')\n",
    "  'Emory Dunwoody Medical Center'\n",
    "\n",
    "  \"\"\"\n",
    "  # Ensuring it is in lowercase\n",
    "  gender = gender.lower()\n",
    "\n",
    "  # get json using the link\n",
    "  u = f'https://oumdj6oci2.execute-api.us-east-1.amazonaws.com/prd/?age={a}&sex={gender}&risk_pct={finalp}'\n",
    "\n",
    "  # Using HTTP GET request\n",
    "  rq = requests.get(u)\n",
    "  # Parsing as JSON\n",
    "  j = rq.json()\n",
    "\n",
    "  # Getting the hospital name from the JSON\n",
    "  name = j.get('hospital')\n",
    "\n",
    "  # return None if not\n",
    "  if j:\n",
    "    return name\n",
    "\n",
    "  else:\n",
    "    return None"
   ]
  },
  {
   "cell_type": "code",
   "execution_count": 5,
   "metadata": {
    "id": "plqPH4w7I4HP"
   },
   "outputs": [],
   "source": [
    "# find_hospital(21, 'm', '0.77')"
   ]
  },
  {
   "cell_type": "markdown",
   "metadata": {
    "id": "cYlVaMmmymT6"
   },
   "source": [
    "# HDS5210-2024 Midterm\n",
    "\n",
    "In the midterm, you're going to use all the programming and data management skills you've developed so far to build a risk calculator that pretends to be integrated with a clinical registry.  You'll compute the PRIEST COVID-19 Clinical Severity Score for a series of patients and, based on their risk of an adverse outcome, query a REST web service to find a hospital to transfer them to. The end result of your work will be a list of instructions on where each patient should be discharged given their risk and various characteristics of the patient.\n",
    "\n",
    "Each step in the midterm will build up to form your complete solution.\n",
    "\n",
    "**Make sure you write good docstrings and doctests along the way!!**\n",
    "\n",
    "**The midterm is due at 11:59 PM CST on Monday, October 24th.**\n",
    "\n",
    "---"
   ]
  },
  {
   "cell_type": "code",
   "execution_count": 6,
   "metadata": {
    "colab": {
     "base_uri": "https://localhost:8080/"
    },
    "id": "NebCdBfqymT9",
    "outputId": "d1bff227-70a1-4494-8f73-5f4e96b06950"
   },
   "outputs": [
    {
     "name": "stdout",
     "output_type": "stream",
     "text": [
      "Finding tests in NoName\n",
      "Trying:\n",
      "    find_hospital(67, 'MAle', 0.88)\n",
      "Expecting:\n",
      "    'Wesley Woods Geriatric Hospital'\n",
      "ok\n",
      "Trying:\n",
      "    find_hospital(60, 'FEmale', 0.41)\n",
      "Expecting:\n",
      "    'Emory Dunwoody Medical Center'\n",
      "ok\n",
      "Trying:\n",
      "    find_hospital(21, 'm', '0.77')\n",
      "Expecting:\n",
      "    'Emory Dunwoody Medical Center'\n",
      "ok\n"
     ]
    }
   ],
   "source": [
    "import doctest\n",
    "doctest.run_docstring_examples(find_hospital, globals(),verbose=True)"
   ]
  },
  {
   "cell_type": "markdown",
   "metadata": {
    "id": "lXLs7bWaymT-"
   },
   "source": [
    "## Part 3: Get the address for that hospital from a JSON file\n",
    "\n",
    "Great! Now we have code to tell us which hospital to send someone to... but we don't know where that hospital is. The next function we need to create is one that looks up the address of that hospital.  All of these hospitals are in Atlanta, Georgia.  We're going to use the list from this webpage to lookup the address for that hospital, based on its name.  https://www.officialusa.com/stateguides/health/hospitals/georgia.html\n",
    "\n",
    "Because we skipped the section about Beautiful Soup and working with HTML, I've converted this information into a JSON document for you.  It's available for you here.  Your code should retrieve this file using the `requests` module.\n",
    "\n",
    "`https://drive.google.com/uc?export=download&id=1fIFD-NkcdiMu941N4GjyMDWxiKsFJBw-`\n",
    "\n",
    "1. You need to create a function called **get_address()** that takes hospital name as a parameter and searches the data from this JSON file for the hospital you want to find.\n",
    "2. Your code will have to load the JSON and return the correct hospital based on name.\n",
    "3. If the hospital name isn't found, the function should return None.\n",
    "4. Be sure to use good docstring documentation and includes at least 3 test cases."
   ]
  },
  {
   "cell_type": "code",
   "execution_count": 7,
   "metadata": {
    "id": "p_5s3waFymT-"
   },
   "outputs": [],
   "source": [
    "#Import\n",
    "import requests\n",
    "\n",
    "# Step 3\n",
    "# In this cell I used same concepts as last cell\n",
    "def get_address(name):\n",
    "  \"\"\"(str) -> (str)\n",
    "   Fetched hospital details to acquire its address.\n",
    "\n",
    "   name : Hospital name\n",
    "\n",
    "   >>> get_address('EAST CENTRAL REGIONAL HOSPITAL')\n",
    "   '3405 MIKE PADGETT HIGHWAY'\n",
    "\n",
    "   >>> get_address('UNIVERSITY HEALTH CARE SYSTEM')\n",
    "   '1350 WALTON WAY'\n",
    "\n",
    "   >>> get_address('My Hospital')\n",
    "\n",
    "\n",
    "  \"\"\"\n",
    "\n",
    "  # Using drive link\n",
    "  u = 'https://drive.google.com/uc?export=download&id=1fIFD-NkcdiMu941N4GjyMDWxiKsFJBw-'\n",
    "  # Using HTTP GET request\n",
    "  rq = requests.get(u)\n",
    "  # Parsing as JSON\n",
    "  j = rq.json()\n",
    "\n",
    "  # Ensuring it is in uppercase\n",
    "  hos = name.upper()\n",
    "  # return None if not\n",
    "  if hos in j:\n",
    "    return j[hos]['ADDRESS']\n",
    "\n",
    "  else:\n",
    "    return None\n",
    "\n"
   ]
  },
  {
   "cell_type": "code",
   "execution_count": 8,
   "metadata": {
    "colab": {
     "base_uri": "https://localhost:8080/"
    },
    "id": "Tqgi21VHUNUE",
    "outputId": "8d52a533-e73b-4652-af99-a8fdbb7eb5a0"
   },
   "outputs": [
    {
     "name": "stdout",
     "output_type": "stream",
     "text": [
      "Finding tests in NoName\n",
      "Trying:\n",
      "    get_address('EAST CENTRAL REGIONAL HOSPITAL')\n",
      "Expecting:\n",
      "    '3405 MIKE PADGETT HIGHWAY'\n",
      "ok\n",
      "Trying:\n",
      "    get_address('UNIVERSITY HEALTH CARE SYSTEM')\n",
      "Expecting:\n",
      "    '1350 WALTON WAY'\n",
      "ok\n",
      "Trying:\n",
      "    get_address('My Hospital')\n",
      "Expecting nothing\n",
      "ok\n"
     ]
    }
   ],
   "source": [
    "doctest.run_docstring_examples(get_address, globals(),verbose=True)"
   ]
  },
  {
   "cell_type": "markdown",
   "metadata": {
    "id": "ABZOsDcSymT_"
   },
   "source": [
    "## Part 4: Run the risk calculator on a population\n",
    "\n",
    "At the link below, there is a file called `people.psv`.  It is a pipe-delimited (`|`) file with columns that match the inputs for the PRIEST calculation above.  Your code should use the `requests` module to retrieve the file from this URL.\n",
    "\n",
    "`https://drive.google.com/uc?export=download&id=1fLxJN9YGUqmqExrilxSS8furwUER5HHh`\n",
    "\n",
    "\n",
    "In addition, the file has a patient identifier in the first column.\n",
    "\n",
    "1. Write a function called **process_people()** that takes the file location above as its only parameter. Your Python program should use your code above to process all of these rows, determine the hospital and address, and return a list whose items are a dictionary like this: `{ patient_number: [sex, age, breath, o2sat, heart, systolic, temp, alertness, inspired, status, hospital, address]}`.  Look at the file in Part 5 for what the output looks like.\n",
    "2. Be sure to use good docstrings, but you don't need any tests in your doc strings.  I've provided those for you withe file in Part 5.\n",
    "\n",
    "\n",
    "**NOTE** that when running your code for all the 100 records in the `people.psv` file, it may take a few minutes to complete.  You're making multiple calls to the internet for each record, so that can take a little while.\n"
   ]
  },
  {
   "cell_type": "code",
   "execution_count": 28,
   "metadata": {
    "id": "fl3KxlexymUA"
   },
   "outputs": [],
   "source": [
    "#Import\n",
    "import csv\n",
    "\n",
    "# Step 4\n",
    "# Adding more to previously used concepts in this cell I used dictionary which is from week 4 and module 14.\n",
    "\n",
    "def process_people(givenpath):\n",
    "  \"\"\"(str) -> (list)\n",
    "    Processing the patient data from the provided path and returning a list of dictionaries, while utilizing all the functions created in the previous steps.\n",
    "\n",
    "    givenpath : Drive url path\n",
    "\n",
    "    >>> process_people('https://drive.google.com/uc?export=download&id=1fLxJN9YGUqmqExrilxSS8furwUER5HHh')\n",
    "\n",
    "  \"\"\"\n",
    "  # Download file from the link\n",
    "  res = requests.get(givenpath)\n",
    "  with open('people.psv', 'w') as f:\n",
    "        f.write(res.text)\n",
    "  # open and read the downloaded file\n",
    "  with open('people.psv', 'r') as file:\n",
    "        # csv reader\n",
    "        filee = csv.reader(file, delimiter='|')\n",
    "\n",
    "        # Extract the header\n",
    "        header = next(filee)\n",
    "        # print(header)\n",
    "\n",
    "        final =[]\n",
    "        dictt = {}\n",
    "\n",
    "        # Iterate over the file\n",
    "        for i in filee:\n",
    "          # print(i[header.index(\"sex\")])\n",
    "          # gender, respmin, heartmin, oxy01, sysmmhg, tempc, ageiny, alerts, ioxys, pfss\n",
    "          # Making sure that data type is correct\n",
    "          # getting all details\n",
    "          id = i[header.index('patient')]\n",
    "          oxy01 = float(i[header.index('o2 sat')])\n",
    "          sysmmhg = int(i[header.index('systolic bp')])\n",
    "          tempc = float(i[header.index('temp')])\n",
    "          ageiny = int(i[header.index(\"age\")])\n",
    "          b = int(i[header.index('breath')])\n",
    "          h = int(i[header.index('heart')])\n",
    "\n",
    "          # Using priest function which is defined in before steps\n",
    "          riskkk = priest(i[header.index(\"sex\")],\n",
    "                                b,\n",
    "                                h, oxy01,sysmmhg, tempc, ageiny,\n",
    "                                i[header.index('alertness')],\n",
    "                                i[header.index('inspired')],\n",
    "                                i[header.index('status')])\n",
    "\n",
    "          final_risk = float(riskkk)\n",
    "\n",
    "          # Using find hospital and get address function which is defined in before steps\n",
    "          final_name = find_hospital(ageiny, i[header.index(\"sex\")], final_risk)\n",
    "          add = get_address(str(final_name))\n",
    "\n",
    "          # Creating a dictionary\n",
    "          dic = {id : [i[header.index(\"sex\")],\n",
    "                      int(i[header.index(\"age\")]),\n",
    "                      float(i[header.index('breath')]),\n",
    "                      float(i[header.index('o2 sat')]),\n",
    "                      float(i[header.index('heart')]),\n",
    "                      float(i[header.index('systolic bp')]),\n",
    "                      float(i[header.index('temp')]),\n",
    "                      i[header.index('alertness')],\n",
    "                      i[header.index('inspired')],\n",
    "                      i[header.index('status')], riskkk, final_name, add]}\n",
    "          #Check\n",
    "          #print(dic)\n",
    "\n",
    "          #Update dictionary\n",
    "          dictt.update(dic)\n",
    "\n",
    "        # Append to list\n",
    "        final.append(dictt)\n",
    "\n",
    "  # returning the result\n",
    "  return final\n",
    "\n"
   ]
  },
  {
   "cell_type": "markdown",
   "metadata": {
    "id": "Ti6TNRF8ymUA"
   },
   "source": [
    "## Part 5: Checking your final results\n",
    "\n",
    "The final step is to check your results.  You should be able to compare your results to the output in `people_results.json` at the link below.  Write some code to check your results.  This does not need to be a function.\n",
    "\n",
    "`https://drive.google.com/uc?export=download&id=1gx1SSC20mO5XL6uYD0mdcM_cL91fcIW5`\n"
   ]
  },
  {
   "cell_type": "code",
   "execution_count": 29,
   "metadata": {
    "colab": {
     "base_uri": "https://localhost:8080/"
    },
    "id": "OmZj3wx-ymUA",
    "outputId": "6177eb1f-bb07-456f-ecd4-f02a858a83fd"
   },
   "outputs": [
    {
     "name": "stdout",
     "output_type": "stream",
     "text": [
      "Both of them are equal\n"
     ]
    }
   ],
   "source": [
    "# Final test\n",
    "final = []\n",
    "\n",
    "# Loading\n",
    "url = 'https://drive.google.com/uc?export=download&id=1gx1SSC20mO5XL6uYD0mdcM_cL91fcIW5'\n",
    "url1 = 'https://drive.google.com/uc?export=download&id=1fLxJN9YGUqmqExrilxSS8furwUER5HHh'\n",
    "\n",
    "rq = requests.get(url)\n",
    "j = rq.json()\n",
    "\n",
    "final.append(j)\n",
    "\n",
    "# Check my work\n",
    "if process_people(url1) == final:\n",
    "    print('Both of them are equal')\n",
    "else:\n",
    "    print('Both of them are not Equal')\n"
   ]
  },
  {
   "cell_type": "markdown",
   "metadata": {
    "id": "f0fVzcMYymUD"
   },
   "source": [
    "---\n",
    "\n",
    "## Check your work above\n",
    "\n",
    "If you didn't get them all correct, take a few minutes to think through those that aren't correct.\n",
    "\n",
    "\n",
    "## Submitting Your Work\n",
    "\n",
    "Submit your work as usual into a folder named `midterm`"
   ]
  },
  {
   "cell_type": "markdown",
   "metadata": {
    "id": "sdYdnq17ymUE"
   },
   "source": [
    "---"
   ]
  }
 ],
 "metadata": {
  "colab": {
   "provenance": []
  },
  "kernelspec": {
   "display_name": "Python 3 (ipykernel)",
   "language": "python",
   "name": "python3"
  },
  "language_info": {
   "codemirror_mode": {
    "name": "ipython",
    "version": 3
   },
   "file_extension": ".py",
   "mimetype": "text/x-python",
   "name": "python",
   "nbconvert_exporter": "python",
   "pygments_lexer": "ipython3",
   "version": "3.12.4"
  }
 },
 "nbformat": 4,
 "nbformat_minor": 4
}
