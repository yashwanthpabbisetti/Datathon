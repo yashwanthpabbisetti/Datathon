{
 "cells": [
  {
   "cell_type": "markdown",
   "id": "58246053-98a1-4889-a75a-573289ce5bd1",
   "metadata": {},
   "source": [
    "Bhavana Reddy Pothireddygari\n",
    "Week 11 Assignment"
   ]
  },
  {
   "cell_type": "code",
   "execution_count": 2,
   "id": "e8749e38-3824-4888-a2e5-1f66ea0ab1e5",
   "metadata": {},
   "outputs": [],
   "source": [
    "import pandas as pd\n",
    "hea_dt=pd.read_csv('HW5.csv')"
   ]
  },
  {
   "cell_type": "code",
   "execution_count": 3,
   "id": "6f700ddd-6f0a-40e7-bcb0-17196a8f70fc",
   "metadata": {},
   "outputs": [
    {
     "data": {
      "text/html": [
       "<div>\n",
       "<style scoped>\n",
       "    .dataframe tbody tr th:only-of-type {\n",
       "        vertical-align: middle;\n",
       "    }\n",
       "\n",
       "    .dataframe tbody tr th {\n",
       "        vertical-align: top;\n",
       "    }\n",
       "\n",
       "    .dataframe thead th {\n",
       "        text-align: right;\n",
       "    }\n",
       "</style>\n",
       "<table border=\"1\" class=\"dataframe\">\n",
       "  <thead>\n",
       "    <tr style=\"text-align: right;\">\n",
       "      <th></th>\n",
       "      <th>Name</th>\n",
       "      <th>Age</th>\n",
       "      <th>Gender</th>\n",
       "      <th>Blood Type</th>\n",
       "      <th>Medical Condition</th>\n",
       "      <th>Date of Admission</th>\n",
       "      <th>Doctor</th>\n",
       "      <th>Hospital</th>\n",
       "      <th>Insurance Provider</th>\n",
       "      <th>Billing Amount</th>\n",
       "      <th>Room Number</th>\n",
       "      <th>Admission Type</th>\n",
       "      <th>Discharge Date</th>\n",
       "      <th>Medication</th>\n",
       "      <th>Test Results</th>\n",
       "    </tr>\n",
       "  </thead>\n",
       "  <tbody>\n",
       "    <tr>\n",
       "      <th>0</th>\n",
       "      <td>Bobby JacksOn</td>\n",
       "      <td>30</td>\n",
       "      <td>Male</td>\n",
       "      <td>B-</td>\n",
       "      <td>Cancer</td>\n",
       "      <td>2024-01-31</td>\n",
       "      <td>Matthew Smith</td>\n",
       "      <td>Sons and Miller</td>\n",
       "      <td>Blue Cross</td>\n",
       "      <td>18856.281306</td>\n",
       "      <td>328</td>\n",
       "      <td>Urgent</td>\n",
       "      <td>2024-02-02</td>\n",
       "      <td>Paracetamol</td>\n",
       "      <td>Normal</td>\n",
       "    </tr>\n",
       "    <tr>\n",
       "      <th>1</th>\n",
       "      <td>LesLie TErRy</td>\n",
       "      <td>62</td>\n",
       "      <td>Male</td>\n",
       "      <td>A+</td>\n",
       "      <td>Obesity</td>\n",
       "      <td>2019-08-20</td>\n",
       "      <td>Samantha Davies</td>\n",
       "      <td>Kim Inc</td>\n",
       "      <td>Medicare</td>\n",
       "      <td>33643.327287</td>\n",
       "      <td>265</td>\n",
       "      <td>Emergency</td>\n",
       "      <td>2019-08-26</td>\n",
       "      <td>Ibuprofen</td>\n",
       "      <td>Inconclusive</td>\n",
       "    </tr>\n",
       "    <tr>\n",
       "      <th>2</th>\n",
       "      <td>DaNnY sMitH</td>\n",
       "      <td>76</td>\n",
       "      <td>Female</td>\n",
       "      <td>A-</td>\n",
       "      <td>Obesity</td>\n",
       "      <td>2022-09-22</td>\n",
       "      <td>Tiffany Mitchell</td>\n",
       "      <td>Cook PLC</td>\n",
       "      <td>Aetna</td>\n",
       "      <td>27955.096079</td>\n",
       "      <td>205</td>\n",
       "      <td>Emergency</td>\n",
       "      <td>2022-10-07</td>\n",
       "      <td>Aspirin</td>\n",
       "      <td>Normal</td>\n",
       "    </tr>\n",
       "    <tr>\n",
       "      <th>3</th>\n",
       "      <td>andrEw waTtS</td>\n",
       "      <td>28</td>\n",
       "      <td>Female</td>\n",
       "      <td>O+</td>\n",
       "      <td>Diabetes</td>\n",
       "      <td>2020-11-18</td>\n",
       "      <td>Kevin Wells</td>\n",
       "      <td>Hernandez Rogers and Vang,</td>\n",
       "      <td>Medicare</td>\n",
       "      <td>37909.782410</td>\n",
       "      <td>450</td>\n",
       "      <td>Elective</td>\n",
       "      <td>2020-12-18</td>\n",
       "      <td>Ibuprofen</td>\n",
       "      <td>Abnormal</td>\n",
       "    </tr>\n",
       "    <tr>\n",
       "      <th>4</th>\n",
       "      <td>adrIENNE bEll</td>\n",
       "      <td>43</td>\n",
       "      <td>Female</td>\n",
       "      <td>AB+</td>\n",
       "      <td>Cancer</td>\n",
       "      <td>2022-09-19</td>\n",
       "      <td>Kathleen Hanna</td>\n",
       "      <td>White-White</td>\n",
       "      <td>Aetna</td>\n",
       "      <td>14238.317814</td>\n",
       "      <td>458</td>\n",
       "      <td>Urgent</td>\n",
       "      <td>2022-10-09</td>\n",
       "      <td>Penicillin</td>\n",
       "      <td>Abnormal</td>\n",
       "    </tr>\n",
       "  </tbody>\n",
       "</table>\n",
       "</div>"
      ],
      "text/plain": [
       "            Name  Age  Gender Blood Type Medical Condition Date of Admission  \\\n",
       "0  Bobby JacksOn   30    Male         B-            Cancer        2024-01-31   \n",
       "1   LesLie TErRy   62    Male         A+           Obesity        2019-08-20   \n",
       "2    DaNnY sMitH   76  Female         A-           Obesity        2022-09-22   \n",
       "3   andrEw waTtS   28  Female         O+          Diabetes        2020-11-18   \n",
       "4  adrIENNE bEll   43  Female        AB+            Cancer        2022-09-19   \n",
       "\n",
       "             Doctor                    Hospital Insurance Provider  \\\n",
       "0     Matthew Smith             Sons and Miller         Blue Cross   \n",
       "1   Samantha Davies                     Kim Inc           Medicare   \n",
       "2  Tiffany Mitchell                    Cook PLC              Aetna   \n",
       "3       Kevin Wells  Hernandez Rogers and Vang,           Medicare   \n",
       "4    Kathleen Hanna                 White-White              Aetna   \n",
       "\n",
       "   Billing Amount  Room Number Admission Type Discharge Date   Medication  \\\n",
       "0    18856.281306          328         Urgent     2024-02-02  Paracetamol   \n",
       "1    33643.327287          265      Emergency     2019-08-26    Ibuprofen   \n",
       "2    27955.096079          205      Emergency     2022-10-07      Aspirin   \n",
       "3    37909.782410          450       Elective     2020-12-18    Ibuprofen   \n",
       "4    14238.317814          458         Urgent     2022-10-09   Penicillin   \n",
       "\n",
       "   Test Results  \n",
       "0        Normal  \n",
       "1  Inconclusive  \n",
       "2        Normal  \n",
       "3      Abnormal  \n",
       "4      Abnormal  "
      ]
     },
     "execution_count": 3,
     "metadata": {},
     "output_type": "execute_result"
    }
   ],
   "source": [
    "hea_dt.head()"
   ]
  },
  {
   "cell_type": "code",
   "execution_count": 4,
   "id": "2e391262-4d9e-4181-8ac4-ae24f38de604",
   "metadata": {},
   "outputs": [
    {
     "data": {
      "text/plain": [
       "Name                   object\n",
       "Age                     int64\n",
       "Gender                 object\n",
       "Blood Type             object\n",
       "Medical Condition      object\n",
       "Date of Admission      object\n",
       "Doctor                 object\n",
       "Hospital               object\n",
       "Insurance Provider     object\n",
       "Billing Amount        float64\n",
       "Room Number             int64\n",
       "Admission Type         object\n",
       "Discharge Date         object\n",
       "Medication             object\n",
       "Test Results           object\n",
       "dtype: object"
      ]
     },
     "execution_count": 4,
     "metadata": {},
     "output_type": "execute_result"
    }
   ],
   "source": [
    "hea_dt.dtypes"
   ]
  },
  {
   "cell_type": "code",
   "execution_count": 5,
   "id": "c9617545-feaa-4cf5-8e31-e542bfa85e39",
   "metadata": {},
   "outputs": [
    {
     "name": "stdout",
     "output_type": "stream",
     "text": [
      "['Paracetamol' 'Ibuprofen' 'Aspirin' 'Penicillin' 'Lipitor']\n"
     ]
    }
   ],
   "source": [
    "print(hea_dt['Medication'].unique())\n"
   ]
  },
  {
   "cell_type": "code",
   "execution_count": 6,
   "id": "de3166c4-dc10-4c7d-84ed-5e1e8e5a273c",
   "metadata": {},
   "outputs": [
    {
     "name": "stdout",
     "output_type": "stream",
     "text": [
      "['Normal' 'Inconclusive' 'Abnormal']\n"
     ]
    }
   ],
   "source": [
    "print(hea_dt['Test Results'].unique())"
   ]
  },
  {
   "cell_type": "code",
   "execution_count": 7,
   "id": "2d20207e-754f-4db5-aca1-c4f06d166178",
   "metadata": {},
   "outputs": [],
   "source": [
    "mapping = {\n",
    "    'Abnormal': 1,\n",
    "    'Normal': 2,\n",
    "    'Inconclusive': 3 \n",
    "}\n",
    "hea_dt['Testing col'] = hea_dt['Test Results'].map(mapping)"
   ]
  },
  {
   "cell_type": "code",
   "execution_count": 8,
   "id": "56773cea-1dc0-44c0-b44e-b6fc7bd5a22d",
   "metadata": {},
   "outputs": [],
   "source": [
    "mapping = {\n",
    "    'Lipitor': 1,\n",
    "    'Ibuprofen': 2,\n",
    "    'Aspirin': 3,\n",
    "    'Paracetamol': 4,\n",
    "    'Penicillin': 5,  \n",
    "}\n",
    "hea_dt['Medication Numeric'] = hea_dt['Medication'].map(mapping)\n"
   ]
  },
  {
   "cell_type": "code",
   "execution_count": null,
   "id": "2566b847-40d7-490a-a537-ec4a0054d89b",
   "metadata": {},
   "outputs": [],
   "source": []
  },
  {
   "cell_type": "code",
   "execution_count": 9,
   "id": "6ff8956b-f6f4-4276-9e2d-0a8ff0da37d3",
   "metadata": {},
   "outputs": [],
   "source": [
    "x = hea_dt[['Age', 'Medication Numeric']]\n",
    "y = hea_dt['Testing col']\n"
   ]
  },
  {
   "cell_type": "code",
   "execution_count": 10,
   "id": "a4e068a9-1294-4bcd-b6a0-a582b8ee2d46",
   "metadata": {},
   "outputs": [],
   "source": [
    "from sklearn.model_selection import train_test_split\n",
    "from sklearn import svm\n",
    "from sklearn.metrics import accuracy_score\n",
    "from sklearn.preprocessing import StandardScaler\n",
    "import matplotlib.pyplot as plt\n",
    "import numpy as np"
   ]
  },
  {
   "cell_type": "code",
   "execution_count": 11,
   "id": "3fc53f5b-f83a-4045-86c4-5bfca8da74a4",
   "metadata": {},
   "outputs": [],
   "source": [
    "scaler = StandardScaler()\n",
    "x_scaled = scaler.fit_transform(x)"
   ]
  },
  {
   "cell_type": "code",
   "execution_count": 32,
   "id": "196264a3-5f61-494b-bea8-d70438821ae2",
   "metadata": {},
   "outputs": [
    {
     "name": "stdout",
     "output_type": "stream",
     "text": [
      "SVC accuracy: 33.800000000000004\n"
     ]
    }
   ],
   "source": [
    "svc = svm.SVC(kernel='linear', C=1).fit(x_scaled, y)\n",
    "svc_pred = svc.predict(x_scaled)\n",
    "print('SVC accuracy:', accuracy_score(y, svc_pred) * 100)"
   ]
  },
  {
   "cell_type": "code",
   "execution_count": 33,
   "id": "03ae0347-3ec3-474e-832e-73788bb1649f",
   "metadata": {},
   "outputs": [
    {
     "name": "stderr",
     "output_type": "stream",
     "text": [
      "C:\\Users\\pabbi\\anaconda3\\Lib\\site-packages\\sklearn\\svm\\_classes.py:31: FutureWarning: The default value of `dual` will change from `True` to `'auto'` in 1.5. Set the value of `dual` explicitly to suppress the warning.\n",
      "  warnings.warn(\n"
     ]
    },
    {
     "name": "stdout",
     "output_type": "stream",
     "text": [
      "Linear SVC accuracy: 33.70990990990991\n"
     ]
    }
   ],
   "source": [
    "# Linear SVC\n",
    "lin_svc = svm.LinearSVC(C=1).fit(x_scaled, y)\n",
    "lsvc_pred = lin_svc.predict(x_scaled)\n",
    "print('Linear SVC accuracy:', accuracy_score(y, lsvc_pred) * 100)"
   ]
  },
  {
   "cell_type": "code",
   "execution_count": 34,
   "id": "5e6d9081-a50b-4592-834e-8f6183102c7d",
   "metadata": {},
   "outputs": [
    {
     "name": "stdout",
     "output_type": "stream",
     "text": [
      "RBF accuracy: 34.214414414414414\n"
     ]
    }
   ],
   "source": [
    "# RBF kernel\n",
    "rbf_svc = svm.SVC(kernel='rbf', gamma=0.7, C=1).fit(x_scaled, y)\n",
    "rsvc_pred = rbf_svc.predict(x_scaled)\n",
    "print('RBF accuracy:', accuracy_score(y, rsvc_pred) * 100)\n"
   ]
  },
  {
   "cell_type": "code",
   "execution_count": 35,
   "id": "373c31ff-25df-4840-adee-e901382eca28",
   "metadata": {
    "scrolled": true
   },
   "outputs": [
    {
     "name": "stdout",
     "output_type": "stream",
     "text": [
      "Polynomial accuracy: 33.75135135135135\n"
     ]
    }
   ],
   "source": [
    "poly_svc = svm.SVC(kernel='poly', degree=3, C=1).fit(x_scaled, y)\n",
    "psvc_pred = poly_svc.predict(x_scaled)\n",
    "print('Polynomial accuracy:', accuracy_score(y, psvc_pred) * 100)"
   ]
  },
  {
   "cell_type": "markdown",
   "id": "0f21627d-7333-45a2-84cf-16758bfc60f6",
   "metadata": {},
   "source": [
    "The Support Vector Classifier (SVC) model's accuracies, which are 33.7% for Linear SVC, 34.2% for RBF, and 33.7% for Polynomial, are all in the neighborhood of random guessing's performance level. This implies that the model might not be a good fit for the given feature set and that none of the kernel types are successfully identifying patterns in the data. This low and consistent accuracy across all kernels may be a sign that the features are not sufficiently discriminatory to allow the SVC to correctly distinguish classes, or that the data is too complicated or noisy for the SVC to handle.Consider the following actions to boost performance: hyperparameter tuning to further optimize the model, feature engineering or selection to increase the signal in the data, or even experimenting with other classification algorithms, some of which might better fit the structure of your data. Furthermore, analyzing the data distribution in greater detail and scaling aspects.\r\n",
    "\r\n"
   ]
  },
  {
   "cell_type": "code",
   "execution_count": null,
   "id": "38f15d6c-333c-4598-994d-56c0ba070a21",
   "metadata": {},
   "outputs": [],
   "source": [
    "import numpy as np\n",
    "import matplotlib.pyplot as plt\n",
    "h = 0.1 \n",
    "\n",
    "x_min, x_max = x.iloc[:, 0].min() - 1, x.iloc[:, 0].max() + 1\n",
    "y_min, y_max = x.iloc[:, 1].min() - 1, x.iloc[:, 1].max() + 1\n",
    "xx, yy = np.meshgrid(np.arange(x_min, x_max, h), np.arange(y_min, y_max, h))\n",
    "\n",
    "titles = ['linear kernel', 'linear svc', 'rbf', 'poly']\n",
    "\n",
    "for i, clf in enumerate((svc, lin_svc, rbf_svc, poly_svc)):\n",
    "    plt.subplot(2, 2, i + 1)\n",
    "    plt.subplots_adjust(wspace=0.4, hspace=0.4)\n",
    "    \n",
    "    # Predict on the grid\n",
    "    Z = clf.predict(np.c_[xx.ravel(), yy.ravel()])\n",
    "    Z = Z.reshape(xx.shape)\n",
    "    \n",
    "    # Plot the decision boundary with contourf\n",
    "    plt.contourf(xx, yy, Z, cmap=plt.cm.coolwarm, alpha=0.8)\n",
    "    plt.scatter(x.iloc[:, 0], x.iloc[:, 1], c=y, cmap=plt.cm.coolwarm, edgecolor='k')\n",
    "    \n",
    "    # Label the axes and set limits\n",
    "    plt.xlabel('Medication')\n",
    "    plt.ylabel('Testing')\n",
    "    plt.xlim(xx.min(), xx.max())\n",
    "    plt.ylim(yy.min(), yy.max())\n",
    "    plt.xticks(())\n",
    "    plt.yticks(())\n",
    "    plt.title(titles[i])\n",
    "\n",
    "plt.show()\n"
   ]
  },
  {
   "cell_type": "markdown",
   "id": "ecad762f-7cdd-4b3c-93fc-47269e240a20",
   "metadata": {},
   "source": [
    "The graphs show the decision boundaries produced by a Linear Support Vector Machine (SVM) and other SVM kernels (Linear, RBF, and Polynomial) when data is categorized using two features: \"Age\" and \"Medication Numeric.\" Every plot demonstrates the model's attempt to distinguish between the classes that are represented by various colored regions. The relatively straightforward, straight boundary lines displayed by the Linear Kernel and Linear SVC indicate that these models are attempting to divide the data linearly.On the other hand, more irregular decision regions that try to adjust to the data clusters are displayed by the RBF and Polynomial kernels, which have the ability to draw more intricate boundaries. The boundaries still seem a little jumbled, though, even with these more adaptable kernels, suggesting the model might be having trouble distinguishing between the classes in this feature space. This could indicate that the classes are difficult to separate, which would be consistent with the previously noted poor accuracies, or that these attributes don't offer enough differentiating power.\n"
   ]
  },
  {
   "cell_type": "code",
   "execution_count": null,
   "id": "e1888942-25d3-4683-aeaf-518575a382db",
   "metadata": {},
   "outputs": [],
   "source": []
  },
  {
   "cell_type": "code",
   "execution_count": null,
   "id": "c67cc0e4-986f-4236-83c2-7fd8b69df940",
   "metadata": {},
   "outputs": [],
   "source": []
  }
 ],
 "metadata": {
  "kernelspec": {
   "display_name": "Python 3 (ipykernel)",
   "language": "python",
   "name": "python3"
  },
  "language_info": {
   "codemirror_mode": {
    "name": "ipython",
    "version": 3
   },
   "file_extension": ".py",
   "mimetype": "text/x-python",
   "name": "python",
   "nbconvert_exporter": "python",
   "pygments_lexer": "ipython3",
   "version": "3.12.4"
  }
 },
 "nbformat": 4,
 "nbformat_minor": 5
}
